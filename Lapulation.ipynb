{
 "cells": [
  {
   "cell_type": "code",
   "execution_count": 58,
   "metadata": {},
   "outputs": [],
   "source": [
    "import numpy as np\n",
    "import sympy as sym\n",
    "import scipy as sci\n",
    "import matplotlib as mpl\n",
    "import random\n",
    "import math\n",
    "#引入几个常用的库\n",
    "#使用np.array 要查证好。\n"
   ]
  },
  {
   "cell_type": "markdown",
   "metadata": {},
   "source": [
    "\"\"\"\n",
    "忘记矩阵这个东西，你将获取python numpy所有的功能，所以matrix一律用array取代。\n",
    "\"\"\""
   ]
  },
  {
   "cell_type": "code",
   "execution_count": 59,
   "metadata": {},
   "outputs": [],
   "source": [
    "DegreeM = np.array([[2,0,0,0,0,0],\n",
    "                    [0,3,0,0,0,0],\n",
    "                    [0,0,2,0,0,0],\n",
    "                    [0,0,0,3,0,0],\n",
    "                    [0,0,0,0,3,0],\n",
    "                    [0,0,0,0,0,1],\n",
    "    \n",
    "],dtype=np.float64)\n",
    "#度矩阵"
   ]
  },
  {
   "cell_type": "code",
   "execution_count": 60,
   "metadata": {},
   "outputs": [],
   "source": [
    "AdjM   =  np.array([[0,1,0,0,1,0],\n",
    "                    [1,0,1,0,1,0],\n",
    "                    [0,1,0,1,0,0],\n",
    "                    [0,0,1,0,1,1],\n",
    "                    [1,1,0,1,0,0],\n",
    "                    [0,0,0,1,0,0],\n",
    "    \n",
    "],dtype=np.float64)\n",
    "#连接矩阵"
   ]
  },
  {
   "cell_type": "code",
   "execution_count": 61,
   "metadata": {},
   "outputs": [],
   "source": [
    "invDegreeM =np.linalg.inv(DegreeM)\n",
    "#度矩阵求逆运算"
   ]
  },
  {
   "cell_type": "code",
   "execution_count": 62,
   "metadata": {},
   "outputs": [
    {
     "data": {
      "text/plain": [
       "array([[0.5       , 0.        , 0.        , 0.        , 0.        ,\n",
       "        0.        ],\n",
       "       [0.        , 0.33333333, 0.        , 0.        , 0.        ,\n",
       "        0.        ],\n",
       "       [0.        , 0.        , 0.5       , 0.        , 0.        ,\n",
       "        0.        ],\n",
       "       [0.        , 0.        , 0.        , 0.33333333, 0.        ,\n",
       "        0.        ],\n",
       "       [0.        , 0.        , 0.        , 0.        , 0.33333333,\n",
       "        0.        ],\n",
       "       [0.        , 0.        , 0.        , 0.        , 0.        ,\n",
       "        1.        ]])"
      ]
     },
     "execution_count": 62,
     "metadata": {},
     "output_type": "execute_result"
    }
   ],
   "source": [
    "invDegreeM"
   ]
  },
  {
   "cell_type": "code",
   "execution_count": 63,
   "metadata": {},
   "outputs": [
    {
     "data": {
      "text/plain": [
       "array([[1., 0., 0., 0., 0., 0.],\n",
       "       [0., 1., 0., 0., 0., 0.],\n",
       "       [0., 0., 1., 0., 0., 0.],\n",
       "       [0., 0., 0., 1., 0., 0.],\n",
       "       [0., 0., 0., 0., 1., 0.],\n",
       "       [0., 0., 0., 0., 0., 1.]])"
      ]
     },
     "execution_count": 63,
     "metadata": {},
     "output_type": "execute_result"
    }
   ],
   "source": [
    "invDegreeM*DegreeM #这是对应的元素乘法"
   ]
  },
  {
   "cell_type": "code",
   "execution_count": 64,
   "metadata": {},
   "outputs": [],
   "source": [
    "LaplaOR = DegreeM - AdjM "
   ]
  },
  {
   "cell_type": "code",
   "execution_count": 65,
   "metadata": {},
   "outputs": [
    {
     "data": {
      "text/plain": [
       "array([[ 2., -1.,  0.,  0., -1.,  0.],\n",
       "       [-1.,  3., -1.,  0., -1.,  0.],\n",
       "       [ 0., -1.,  2., -1.,  0.,  0.],\n",
       "       [ 0.,  0., -1.,  3., -1., -1.],\n",
       "       [-1., -1.,  0., -1.,  3.,  0.],\n",
       "       [ 0.,  0.,  0., -1.,  0.,  1.]])"
      ]
     },
     "execution_count": 65,
     "metadata": {},
     "output_type": "execute_result"
    }
   ],
   "source": [
    "LaplaOR #普通形式的laplacian"
   ]
  },
  {
   "cell_type": "code",
   "execution_count": 66,
   "metadata": {},
   "outputs": [],
   "source": [
    "LaplaRW =  np.matmul(invDegreeM , LaplaOR)#这是真正的矩阵乘法 ，随机行走矩阵"
   ]
  },
  {
   "cell_type": "code",
   "execution_count": 67,
   "metadata": {},
   "outputs": [
    {
     "data": {
      "text/plain": [
       "array([[ 1.        , -0.5       ,  0.        ,  0.        , -0.5       ,\n",
       "         0.        ],\n",
       "       [-0.33333333,  1.        , -0.33333333,  0.        , -0.33333333,\n",
       "         0.        ],\n",
       "       [ 0.        , -0.5       ,  1.        , -0.5       ,  0.        ,\n",
       "         0.        ],\n",
       "       [ 0.        ,  0.        , -0.33333333,  1.        , -0.33333333,\n",
       "        -0.33333333],\n",
       "       [-0.33333333, -0.33333333,  0.        , -0.33333333,  1.        ,\n",
       "         0.        ],\n",
       "       [ 0.        ,  0.        ,  0.        , -1.        ,  0.        ,\n",
       "         1.        ]])"
      ]
     },
     "execution_count": 67,
     "metadata": {},
     "output_type": "execute_result"
    }
   ],
   "source": [
    "LaplaRW"
   ]
  },
  {
   "cell_type": "code",
   "execution_count": 68,
   "metadata": {},
   "outputs": [],
   "source": [
    "MatrixLaplaRW = np.matrix(LaplaRW)"
   ]
  },
  {
   "cell_type": "code",
   "execution_count": 69,
   "metadata": {},
   "outputs": [],
   "source": [
    "#至今没有找到随机行走形式的拉普拉斯矩阵变为随机矩阵的方法。\n",
    "#但是知乎上有了第二个定义，这个定义就很好了。\n",
    "#https://www.zhihu.com/question/54504471"
   ]
  },
  {
   "cell_type": "code",
   "execution_count": 70,
   "metadata": {},
   "outputs": [],
   "source": [
    "#Dim_AdjM = AdjM.ndim 错误了\n",
    "#Dim_AdjM = AdjM.size 也错了\n",
    "Dim_AdjM = AdjM.shape\n",
    "Zh_LaplaRW = np.identity(Dim_AdjM[0]) - np.matmul(invDegreeM , AdjM)#知乎上定义的随机行走矩阵"
   ]
  },
  {
   "cell_type": "code",
   "execution_count": 71,
   "metadata": {},
   "outputs": [
    {
     "data": {
      "text/plain": [
       "6"
      ]
     },
     "execution_count": 71,
     "metadata": {},
     "output_type": "execute_result"
    }
   ],
   "source": [
    "Dim_AdjM[0]"
   ]
  },
  {
   "cell_type": "code",
   "execution_count": 72,
   "metadata": {},
   "outputs": [
    {
     "data": {
      "text/plain": [
       "array([[ 1.        , -0.5       ,  0.        ,  0.        , -0.5       ,\n",
       "         0.        ],\n",
       "       [-0.33333333,  1.        , -0.33333333,  0.        , -0.33333333,\n",
       "         0.        ],\n",
       "       [ 0.        , -0.5       ,  1.        , -0.5       ,  0.        ,\n",
       "         0.        ],\n",
       "       [ 0.        ,  0.        , -0.33333333,  1.        , -0.33333333,\n",
       "        -0.33333333],\n",
       "       [-0.33333333, -0.33333333,  0.        , -0.33333333,  1.        ,\n",
       "         0.        ],\n",
       "       [ 0.        ,  0.        ,  0.        , -1.        ,  0.        ,\n",
       "         1.        ]])"
      ]
     },
     "execution_count": 72,
     "metadata": {},
     "output_type": "execute_result"
    }
   ],
   "source": [
    "Zh_LaplaRW"
   ]
  },
  {
   "cell_type": "code",
   "execution_count": 74,
   "metadata": {},
   "outputs": [
    {
     "ename": "TypeError",
     "evalue": "only size-1 arrays can be converted to Python scalars",
     "output_type": "error",
     "traceback": [
      "\u001b[0;31m---------------------------------------------------------------------------\u001b[0m",
      "\u001b[0;31mTypeError\u001b[0m                                 Traceback (most recent call last)",
      "\u001b[0;32m<ipython-input-74-bab269df5c3c>\u001b[0m in \u001b[0;36m<module>\u001b[0;34m\u001b[0m\n\u001b[1;32m      1\u001b[0m \u001b[0;32mimport\u001b[0m \u001b[0mmath\u001b[0m\u001b[0;34m\u001b[0m\u001b[0;34m\u001b[0m\u001b[0m\n\u001b[0;32m----> 2\u001b[0;31m \u001b[0mSqrIn_DegreeM\u001b[0m \u001b[0;34m=\u001b[0m \u001b[0mmath\u001b[0m\u001b[0;34m.\u001b[0m\u001b[0mpow\u001b[0m\u001b[0;34m(\u001b[0m\u001b[0mDegreeM\u001b[0m\u001b[0;34m,\u001b[0m\u001b[0;34m-\u001b[0m\u001b[0;36m0.5\u001b[0m\u001b[0;34m)\u001b[0m\u001b[0;34m\u001b[0m\u001b[0;34m\u001b[0m\u001b[0m\n\u001b[0m",
      "\u001b[0;31mTypeError\u001b[0m: only size-1 arrays can be converted to Python scalars"
     ]
    }
   ],
   "source": [
    "#import math\n",
    "#SqrIn_DegreeM = math.pow(DegreeM,-0.5) 错误"
   ]
  },
  {
   "cell_type": "code",
   "execution_count": 77,
   "metadata": {},
   "outputs": [
    {
     "name": "stdout",
     "output_type": "stream",
     "text": [
      "[2. 3. 2. 3. 3. 1.]\n",
      "[[0.70710678 0.         0.         0.         0.         0.        ]\n",
      " [0.         0.57735027 0.         0.         0.         0.        ]\n",
      " [0.         0.         0.70710678 0.         0.         0.        ]\n",
      " [0.         0.         0.         0.57735027 0.         0.        ]\n",
      " [0.         0.         0.         0.         0.57735027 0.        ]\n",
      " [0.         0.         0.         0.         0.         1.        ]]\n"
     ]
    }
   ],
   "source": [
    "import numpy as np\n",
    "from numpy import linalg as la\n",
    "\n",
    "v, Q = la.eig(DegreeM)\n",
    "print(v)\n",
    "V = np.diag(v**(-0.5))\n",
    "print(V)\n",
    "T = Q*V*la.inv(Q)\n",
    "#print(T)"
   ]
  },
  {
   "cell_type": "code",
   "execution_count": 78,
   "metadata": {},
   "outputs": [
    {
     "name": "stdout",
     "output_type": "stream",
     "text": [
      "[[0.70710678 0.         0.         0.         0.         0.        ]\n",
      " [0.         0.57735027 0.         0.         0.         0.        ]\n",
      " [0.         0.         0.70710678 0.         0.         0.        ]\n",
      " [0.         0.         0.         0.57735027 0.         0.        ]\n",
      " [0.         0.         0.         0.         0.57735027 0.        ]\n",
      " [0.         0.         0.         0.         0.         1.        ]]\n"
     ]
    }
   ],
   "source": [
    "print(T)"
   ]
  },
  {
   "cell_type": "code",
   "execution_count": 79,
   "metadata": {},
   "outputs": [],
   "source": [
    "TAdjM = np.matmul(T, AdjM)"
   ]
  },
  {
   "cell_type": "code",
   "execution_count": 80,
   "metadata": {},
   "outputs": [],
   "source": [
    "TAdjMT = np.matmul(TAdjM , T)"
   ]
  },
  {
   "cell_type": "code",
   "execution_count": 81,
   "metadata": {},
   "outputs": [
    {
     "data": {
      "text/plain": [
       "array([[0.        , 0.40824829, 0.        , 0.        , 0.40824829,\n",
       "        0.        ],\n",
       "       [0.40824829, 0.        , 0.40824829, 0.        , 0.33333333,\n",
       "        0.        ],\n",
       "       [0.        , 0.40824829, 0.        , 0.40824829, 0.        ,\n",
       "        0.        ],\n",
       "       [0.        , 0.        , 0.40824829, 0.        , 0.33333333,\n",
       "        0.57735027],\n",
       "       [0.40824829, 0.33333333, 0.        , 0.33333333, 0.        ,\n",
       "        0.        ],\n",
       "       [0.        , 0.        , 0.        , 0.57735027, 0.        ,\n",
       "        0.        ]])"
      ]
     },
     "execution_count": 81,
     "metadata": {},
     "output_type": "execute_result"
    }
   ],
   "source": [
    "TAdjMT"
   ]
  },
  {
   "cell_type": "code",
   "execution_count": null,
   "metadata": {},
   "outputs": [],
   "source": []
  }
 ],
 "metadata": {
  "kernelspec": {
   "display_name": "Python 3",
   "language": "python",
   "name": "python3"
  },
  "language_info": {
   "codemirror_mode": {
    "name": "ipython",
    "version": 3
   },
   "file_extension": ".py",
   "mimetype": "text/x-python",
   "name": "python",
   "nbconvert_exporter": "python",
   "pygments_lexer": "ipython3",
   "version": "3.7.6"
  }
 },
 "nbformat": 4,
 "nbformat_minor": 4
}
