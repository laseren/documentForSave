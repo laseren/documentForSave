{
 "cells": [
  {
   "cell_type": "markdown",
   "metadata": {},
   "source": [
    "# quantum Hopfield neural network"
   ]
  },
  {
   "cell_type": "markdown",
   "metadata": {},
   "source": [
    "本文将HHL方法应用于Quantum Hopfield神经网络\n"
   ]
  },
  {
   "cell_type": "markdown",
   "metadata": {},
   "source": [
    "## 神经网络"
   ]
  },
  {
   "cell_type": "markdown",
   "metadata": {},
   "source": [
    "经典的Hopfield网络是单层的，全部可视的，并且是无方向性的神经网络。这里应用Hebbian learningrule\n",
    "学习规则。关于Hebbin学习规则，请参考："
   ]
  },
  {
   "cell_type": "markdown",
   "metadata": {},
   "source": [
    "给定权重矩阵$w_{i,j}$对应于神经元中第$i$和$j$ 个链接。考虑训练集$M$，$x^{m},m \\in {1,2,...,M}$.权重矩阵记为：\n",
    "$ W = \\frac{1}{Md} [ \\Sigma_{m=1}^{M}x^{m}(x^{m})^{T} ]- \\frac{I_{d}}{d}$\n",
    "这里的$I_{d}$是单位矩阵。权重矩阵用于计算权重，图上的每个点既是输入向量，有担负输出向量，而且是全连通的，每个点有个激活函数，从而形成一个闭合的循环。待状态稳定后，读取输出点的数据，就是学习后的结果。"
   ]
  },
  {
   "cell_type": "markdown",
   "metadata": {},
   "source": [
    "## 量子神经网络"
   ]
  },
  {
   "cell_type": "markdown",
   "metadata": {},
   "source": [
    "这段非常重要，是LLoyd对于神经网络的观点，依稀发现，谷歌课题组的方向是提高维度，用线性的方式来解决非线性分类问题。还有一个思路是用测量的手段来代替激活函数的功能，这里的思路我觉得LLoyd等人的。\n",
    "    设想一个多比特的量子系统构建神经网络，一个直接的方法就是在神经元和量子比特建立联系，解锁对纠缠和相干量子特性的访问。Schuld M , Sinayskiy I , Petruccione F . The quest for a Quantum Neural Network[J]. Quantum Information Processing, 2014, 13(11):2567-2586."
   ]
  },
  {
   "cell_type": "markdown",
   "metadata": {},
   "source": [
    "我们想对神经网络编码成量子态的幅度，就是叠加态。这将依靠神经网络的激活模式和量子系统的纯态之间的关联规则实现。考虑任意的$d$维矢量$x:={x_{1},x_{2},...,x_{d}}^{T}$.关联到纯态，$\\left\\vert x\\right\\rangle$,该纯态表示量子系统有$d$个能级系统。映射写成$x \\rightarrow \\left\\Vert {x}\\right\\Vert _{2} \\left\\vert x\\right\\rangle$ "
   ]
  },
  {
   "cell_type": "markdown",
   "metadata": {},
   "source": [
    ",这里的$\\left\\Vert {x}\\right\\Vert _{2}= \\sqrt{\\Sigma_{i=1}^{d}x_{i}^{2}} $,那么，$\\left\\vert x\\right\\rangle :=\\frac{1}{ \\left\\Vert {x}\\right\\Vert _{2}}\\Sigma_{i=1}^{d} x_{i} \\left\\vert i\\right\\rangle $ "
   ]
  },
  {
   "cell_type": "markdown",
   "metadata": {},
   "source": [
    "不难验证$\\left\\vert x\\right\\rangle$归一化的，即内积为1."
   ]
  },
  {
   "cell_type": "markdown",
   "metadata": {},
   "source": [
    "将激活模式向量标记为$x_{i}= \\pm 1$,其模为$\\left\\Vert {x}\\right\\Vert _{2} = \\sqrt{\\Sigma_{i=1}^{d}x_{i}^{2}} = \\sqrt{d}$.量子系统有$d$个能级系统，可以用$N = [log_{2}d]$个量子比特构成的寄存器来执行运算，因此，神经元的数目取对数后就是所需量子比特的开销。下面我们展开权重矩阵如何通过量子Hebbian学习被量子系统理解。"
   ]
  },
  {
   "cell_type": "markdown",
   "metadata": {},
   "source": [
    "   量子系统适配神经网络的关键是激活模式的经典到量子的读入装置，（意思是否是经典到量子的编码执行单元？）。我们的装置中，读入激活模式$x$等同于制备量子态$\\left\\vert x\\right\\rangle$。原则上可以通过量子随机存储器qRAM实现，或者是其它的方法，例如受限的oracle，相关结果参考文献[42]。两种方法量子计算的开销都是$d$的对数。当然，状态制备方法可潜在地应用于机器学习中的容错。另一种方法可以是完全量子视角，直接从量子装置或量子通道输出激活模式席。对于前者，我们的制备运行时间是有效的，只要量子器件是由许多在用量子比特的个数多项式表示。相反，对于后者，我们通常将通道视为某种形式的固定系统环境交互，不需要计算开销来实现。----这里对初态制备的说明，不是很懂。\n",
    "   "
   ]
  },
  {
   "cell_type": "markdown",
   "metadata": {},
   "source": [
    "## 量子Hebbian学习"
   ]
  },
  {
   "cell_type": "markdown",
   "metadata": {},
   "source": [
    "使用我们的关联规则，训练集激活模式$x^{(m)}$可以与纯量子态的$\\left\\vert x^{(m)}\\right\\rangle$构成的系综相关联.现在让我们关注Hopfield网络，带有加权矩阵$W$通过引进量子Hebbian学习算法（qHeb）来获得，它依赖于两个重要的洞察力：（i）其一是可以将加权矩阵W直接关联到N个量子位存储寄存器的混合态$\\rho$：其实就是把经典的权值矩阵，修正成合适的密度矩阵。这个修正的方法有点特殊，首先权值矩阵本身是$0-1$之间的数，这种映射方法，原理是什么呢？是不是为了能够满足密度矩阵的特征："
   ]
  },
  {
   "cell_type": "markdown",
   "metadata": {},
   "source": [
    "\\begin{equation}\n",
    "  \\rho = W+\\frac{I_{d}}{d} = \\frac{1}{ M}\\Sigma_{m=1}^{M}  \\left\\vert x^{m}\\right\\rangle  \\left\\langle x^{m} \\right \\vert   \\label{Eq1}\n",
    "\\end{equation}\n"
   ]
  },
  {
   "cell_type": "markdown",
   "metadata": {},
   "source": [
    "密度矩阵的性质，（1）厄米算符  $\\hat{\\rho}^{\\dagger} =\\hat{\\rho} $(2)本征值非负\n",
    "（3）密度矩阵的迹 $Tr\\hat{\\rho}=1$.$Tr\\hat{\\rho}^2=1 $ for purestate,$Tr\\hat{\\rho}^2<1 $for mixture state (4)矩阵元 $\\hat{\\rho}_{nn} \\in [0,1]$ (5)对于纯态，$\\hat{\\rho} = \\hat{\\rho}^2$ (6) 密度算符表象变换，$ \\hat{\\rho}^{'}=S \\hat{\\rho}S^{-1}$"
   ]
  },
  {
   "cell_type": "markdown",
   "metadata": {},
   "source": [
    "（ii）第二个具有洞察力的问题在于，有效的量子执行算法就藏在权值矩阵$W$之中。"
   ]
  },
  {
   "cell_type": "markdown",
   "metadata": {},
   "source": [
    "对于（i）作如下评论：可以用前面提到的方法，有效的制备纯量子态的$\\left\\vert x^{(m)}\\right\\rangle$，记$T_{in}$为制备每个$\\left\\vert x^{(m)}\\right\\rangle$所需要的时间，$T_{in} \\in \\mathbf{O}(poly(log d))$\n",
    "\n",
    "关于(ii)，假设实验已经这备好了$\\rho$，想要处理的训练信息已经包含在$\\rho$其中了。如果$\\rho$有不知道的量子器件产生，我们就不能回复训练状态$\\left\\vert x^{(m)}\\right\\rangle$，因此，把它分解成纯态时就不是唯一的。另外一方面，我们能够从$\\rho$中获取到有用的信息，例如他的本征值和本征态。一种可行的方法就是执行$\\rho$量子态层析。对于低秩的（low rank）$r$的态，通过运行$\\mathbf{O}(d poly(log d,r))$时间就能有效的执行层析。但是其它的状态需要对全部状态执行层析，但时间的增长是量子比特数的多项式规律增长。"
   ]
  },
  {
   "cell_type": "code",
   "execution_count": null,
   "metadata": {},
   "outputs": [],
   "source": []
  }
 ],
 "metadata": {
  "kernelspec": {
   "display_name": "Python 3",
   "language": "python",
   "name": "python3"
  },
  "language_info": {
   "codemirror_mode": {
    "name": "ipython",
    "version": 3
   },
   "file_extension": ".py",
   "mimetype": "text/x-python",
   "name": "python",
   "nbconvert_exporter": "python",
   "pygments_lexer": "ipython3",
   "version": "3.7.6"
  }
 },
 "nbformat": 4,
 "nbformat_minor": 4
}
