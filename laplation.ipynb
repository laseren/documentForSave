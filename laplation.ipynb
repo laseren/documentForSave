{
 "cells": [
  {
   "cell_type": "code",
   "execution_count": 6,
   "metadata": {},
   "outputs": [],
   "source": [
    "import numpy as np\n",
    "import scipy as sp\n",
    "import matplotlib.pyplot as plt\n",
    "%matplotlib inline\n",
    "\n",
    "DD = np.array([[2.00,0.00,0.00,0,0,0],[0,3,0,0,0,0]\n",
    "               ,[0,0,2,0,0,0],[0,0,0,3,0,0]\n",
    "               ,[0,0,0,0,3,0],[0,0,0,0,0,1]])"
   ]
  },
  {
   "cell_type": "code",
   "execution_count": 7,
   "metadata": {},
   "outputs": [
    {
     "data": {
      "text/plain": [
       "array([[2., 0., 0., 0., 0., 0.],\n",
       "       [0., 3., 0., 0., 0., 0.],\n",
       "       [0., 0., 2., 0., 0., 0.],\n",
       "       [0., 0., 0., 3., 0., 0.],\n",
       "       [0., 0., 0., 0., 3., 0.],\n",
       "       [0., 0., 0., 0., 0., 1.]])"
      ]
     },
     "execution_count": 7,
     "metadata": {},
     "output_type": "execute_result"
    }
   ],
   "source": [
    "DD"
   ]
  },
  {
   "cell_type": "code",
   "execution_count": 8,
   "metadata": {},
   "outputs": [],
   "source": [
    "AA = np.array([[0.00,1.00,0.00,0.00,1.00,0.00]\n",
    "                 ,[1.00,0.00,1.00,0.00,1.00,0.00]\n",
    "               ,[0.00,1.00,0.00,1.00,0.00,0.00]\n",
    "                 ,[0.00,0.00,1.00,0.00,1.00,1.00]\n",
    "               ,[1.00,1.00,0.00,1.00,0.00,0.00]\n",
    "                 ,[0.00,0.00,0.00,1.00,0.00,0.00]])"
   ]
  },
  {
   "cell_type": "code",
   "execution_count": 9,
   "metadata": {},
   "outputs": [
    {
     "data": {
      "text/plain": [
       "array([[0., 1., 0., 0., 1., 0.],\n",
       "       [1., 0., 1., 0., 1., 0.],\n",
       "       [0., 1., 0., 1., 0., 0.],\n",
       "       [0., 0., 1., 0., 1., 1.],\n",
       "       [1., 1., 0., 1., 0., 0.],\n",
       "       [0., 0., 0., 1., 0., 0.]])"
      ]
     },
     "execution_count": 9,
     "metadata": {},
     "output_type": "execute_result"
    }
   ],
   "source": [
    "AA"
   ]
  },
  {
   "cell_type": "code",
   "execution_count": 10,
   "metadata": {},
   "outputs": [],
   "source": [
    "LL = DD -AA"
   ]
  },
  {
   "cell_type": "code",
   "execution_count": 11,
   "metadata": {},
   "outputs": [
    {
     "data": {
      "text/plain": [
       "array([[ 2., -1.,  0.,  0., -1.,  0.],\n",
       "       [-1.,  3., -1.,  0., -1.,  0.],\n",
       "       [ 0., -1.,  2., -1.,  0.,  0.],\n",
       "       [ 0.,  0., -1.,  3., -1., -1.],\n",
       "       [-1., -1.,  0., -1.,  3.,  0.],\n",
       "       [ 0.,  0.,  0., -1.,  0.,  1.]])"
      ]
     },
     "execution_count": 11,
     "metadata": {},
     "output_type": "execute_result"
    }
   ],
   "source": [
    "LL"
   ]
  },
  {
   "cell_type": "code",
   "execution_count": 12,
   "metadata": {},
   "outputs": [],
   "source": [
    "invDD = np.linalg.inv(DD)"
   ]
  },
  {
   "cell_type": "code",
   "execution_count": 13,
   "metadata": {},
   "outputs": [
    {
     "data": {
      "text/plain": [
       "array([[0.5       , 0.        , 0.        , 0.        , 0.        ,\n",
       "        0.        ],\n",
       "       [0.        , 0.33333333, 0.        , 0.        , 0.        ,\n",
       "        0.        ],\n",
       "       [0.        , 0.        , 0.5       , 0.        , 0.        ,\n",
       "        0.        ],\n",
       "       [0.        , 0.        , 0.        , 0.33333333, 0.        ,\n",
       "        0.        ],\n",
       "       [0.        , 0.        , 0.        , 0.        , 0.33333333,\n",
       "        0.        ],\n",
       "       [0.        , 0.        , 0.        , 0.        , 0.        ,\n",
       "        1.        ]])"
      ]
     },
     "execution_count": 13,
     "metadata": {},
     "output_type": "execute_result"
    }
   ],
   "source": [
    "invDD"
   ]
  },
  {
   "cell_type": "code",
   "execution_count": 14,
   "metadata": {},
   "outputs": [],
   "source": [
    "L_rw = np.matmul(invDD,LL)"
   ]
  },
  {
   "cell_type": "code",
   "execution_count": 15,
   "metadata": {},
   "outputs": [
    {
     "data": {
      "text/plain": [
       "array([[ 1.        , -0.5       ,  0.        ,  0.        , -0.5       ,\n",
       "         0.        ],\n",
       "       [-0.33333333,  1.        , -0.33333333,  0.        , -0.33333333,\n",
       "         0.        ],\n",
       "       [ 0.        , -0.5       ,  1.        , -0.5       ,  0.        ,\n",
       "         0.        ],\n",
       "       [ 0.        ,  0.        , -0.33333333,  1.        , -0.33333333,\n",
       "        -0.33333333],\n",
       "       [-0.33333333, -0.33333333,  0.        , -0.33333333,  1.        ,\n",
       "         0.        ],\n",
       "       [ 0.        ,  0.        ,  0.        , -1.        ,  0.        ,\n",
       "         1.        ]])"
      ]
     },
     "execution_count": 15,
     "metadata": {},
     "output_type": "execute_result"
    }
   ],
   "source": [
    "L_rw"
   ]
  },
  {
   "cell_type": "markdown",
   "metadata": {},
   "source": [
    "在Python中可以使用NumPy中的sum函数来进行数值求和，sum方法的格式如下：\n",
    "\n",
    "numpy.sum(a, axis=None, dtype=None, out=None, keepdims=, initial=)\n",
    "\n",
    "常用参数含义如下：\n",
    "\n",
    "a - 待求和的数组；\n",
    "\n",
    "axis - 求和的方向，None或没有axis参数表示全部数据相加，axis=0，表示按列相加，axis=1，表示按行相加，对于一维数组，只有axis=0，表示按行相加，没有axis=1，输入axis=1会报错；\n",
    "\n",
    "dtype - 输出结果数据的数据类型。\n",
    "\n",
    "示例代码：\n",
    "\n",
    ">>> import numpy as np  \n",
    ">>> A=np.array([[1,2],[3,4],[5,6]])  \n",
    ">>> np.sum(A)  \n",
    "21  \n",
    ">>> np.sum(A,axis=0)  \n",
    "array([ 9, 12])  \n",
    ">>> np.sum(A,axis=1)  \n",
    "array([ 3,  7, 11])  "
   ]
  },
  {
   "cell_type": "code",
   "execution_count": 16,
   "metadata": {},
   "outputs": [
    {
     "data": {
      "text/plain": [
       "array([ 0.33333333, -0.33333333,  0.33333333, -0.83333333, -0.16666667,\n",
       "        0.66666667])"
      ]
     },
     "execution_count": 16,
     "metadata": {},
     "output_type": "execute_result"
    }
   ],
   "source": [
    "np.sum(L_rw,axis=0) "
   ]
  },
  {
   "cell_type": "code",
   "execution_count": 1,
   "metadata": {
    "scrolled": true
   },
   "outputs": [
    {
     "ename": "SyntaxError",
     "evalue": "invalid syntax (<ipython-input-1-946580076772>, line 1)",
     "output_type": "error",
     "traceback": [
      "\u001b[0;36m  File \u001b[0;32m\"<ipython-input-1-946580076772>\"\u001b[0;36m, line \u001b[0;32m1\u001b[0m\n\u001b[0;31m    L_rw([1,:])\u001b[0m\n\u001b[0m            ^\u001b[0m\n\u001b[0;31mSyntaxError\u001b[0m\u001b[0;31m:\u001b[0m invalid syntax\n"
     ]
    }
   ],
   "source": [
    "L_rw([1,:])"
   ]
  },
  {
   "cell_type": "code",
   "execution_count": null,
   "metadata": {},
   "outputs": [],
   "source": []
  }
 ],
 "metadata": {
  "kernelspec": {
   "display_name": "Python 3",
   "language": "python",
   "name": "python3"
  },
  "language_info": {
   "codemirror_mode": {
    "name": "ipython",
    "version": 3
   },
   "file_extension": ".py",
   "mimetype": "text/x-python",
   "name": "python",
   "nbconvert_exporter": "python",
   "pygments_lexer": "ipython3",
   "version": "3.7.6"
  },
  "latex_envs": {
   "LaTeX_envs_menu_present": true,
   "autoclose": false,
   "autocomplete": true,
   "bibliofile": "biblio.bib",
   "cite_by": "apalike",
   "current_citInitial": 1,
   "eqLabelWithNumbers": true,
   "eqNumInitial": 1,
   "hotkeys": {
    "equation": "Ctrl-E",
    "itemize": "Ctrl-I"
   },
   "labels_anchors": false,
   "latex_user_defs": false,
   "report_style_numbering": false,
   "user_envs_cfg": false
  },
  "toc": {
   "base_numbering": 1,
   "nav_menu": {},
   "number_sections": true,
   "sideBar": true,
   "skip_h1_title": false,
   "title_cell": "Table of Contents",
   "title_sidebar": "Contents",
   "toc_cell": false,
   "toc_position": {},
   "toc_section_display": true,
   "toc_window_display": false
  }
 },
 "nbformat": 4,
 "nbformat_minor": 4
}
